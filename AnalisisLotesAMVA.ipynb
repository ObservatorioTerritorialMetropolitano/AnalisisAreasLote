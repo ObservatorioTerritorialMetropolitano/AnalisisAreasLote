{
  "nbformat": 4,
  "nbformat_minor": 0,
  "metadata": {
    "colab": {
      "name": "AnalisisLotesAMVA.ipynb",
      "provenance": [],
      "collapsed_sections": [],
      "toc_visible": true
    },
    "kernelspec": {
      "name": "python3",
      "display_name": "Python 3"
    },
    "language_info": {
      "name": "python"
    }
  },
  "cells": [
    {
      "cell_type": "markdown",
      "source": [
        "---\n",
        "\n",
        "<div align=\"left\">\n",
        "<p><img alt=\"AMVA\" height=\"140px\" src=\"https://www.metropol.gov.co/Style%20Library/images/logo-area.png\" align=\"left\" hspace=\"10px\" vspace=\"0px\"></p></div>\n",
        "<div> </div>\n",
        "<div align=\"right\">\n",
        "<p><img alt=\"Catastro\" height=\"140px\" src=\"https://www.metropol.gov.co/administrativa-financiera/PublishingImages/Paginas/gestion-catastral/servicios/catastro_area_metropolitana_web.jpg\" align=\"right\" hspace=\"10px\" vspace=\"10px\"></p></div>\n",
        "<br></br>\n",
        "<br></br>\n",
        "<br></br>\n",
        "<br></br>\n",
        "<p>\n",
        "<h1> <b>Análisis de Lotes del AMVA</b> </h1>\n",
        "<hr size=10 noshade color=\"green\">\n",
        "</p>\n",
        "<p>\n",
        "<img alt=\"CC\" height=\"70px\" src=\"https://creativecommons.org/images/deed/cc_blue_x2.png\" align=\"left\" hspace=\"0px\" vspace=\"0px\">\n",
        "<img alt=\"Attribution\" height=\"70px\" src=\"https://creativecommons.org/images/deed/attribution_icon_blue_x2.png\" align=\"left\" hspace=\"0px\" vspace=\"0px\">\n",
        "<img alt=\"NC\" height=\"70px\" src=\"https://creativecommons.org/images/deed/nc_blue_x2.png\" align=\"left\" hspace=\"0px\" vspace=\"0px\">\n",
        "<img alt=\"SA\" height=\"70px\" src=\"https://creativecommons.org/images/deed/sa_blue_x2.png\" align=\"left\" hspace=\"0px\" vspace=\"0px\">\n",
        "</p>\n",
        "\n",
        "<div align=\"right\">\n",
        "<h1> <b> Por: Julián Andrés Castillo G.</b> </h1>\n",
        "<strong><a href=\"mailto:castillojulian@gmail.com\"> ✉ Julián Castillo [castillojulian@gmail.com]</a></strong> \n",
        "</div>\n",
        "<div align=\"right\">\n",
        "<h2> <b> Por: Juan Pablo Barrero Velez</b> </h1>\n",
        "<strong><a href=\"mailto:samac1984@gmail.com\"> ✉ Juan Pablo Barrero [samac1984@gmail.com]</a></strong> \n",
        "</div>\n",
        "<br>\n",
        "\n",
        "---"
      ],
      "metadata": {
        "id": "CK6MxccpvcNR"
      }
    },
    {
      "cell_type": "markdown",
      "source": [
        "# **Análisis de lotes de predios del Área Metropolitana del Valle de Aburrá**\n",
        "\n",
        "Un análisis de los lotes de los predios del Área Metropolitana del Valle de Aburrá – Una mirada desde los atributos de la información geográfica (Datos con corte a julio de 2022)"
      ],
      "metadata": {
        "id": "BIcyecznvoaa"
      }
    },
    {
      "cell_type": "markdown",
      "source": [
        "## **Carga de información**"
      ],
      "metadata": {
        "id": "iNKL2_e9iSJa"
      }
    },
    {
      "cell_type": "code",
      "source": [
        "import pandas as pd\n",
        "import matplotlib.pyplot as plt\n",
        "import numpy as np\n",
        "\n",
        "url = 'https://raw.githubusercontent.com/ObservatorioTerritorialMetropolitano/AnalisisAreasLote/main/Data.csv'\n",
        "\n",
        "df = pd.read_csv(url, sep=';')\n",
        "df.head()"
      ],
      "metadata": {
        "colab": {
          "base_uri": "https://localhost:8080/",
          "height": 206
        },
        "id": "MbpTPS3FiW76",
        "outputId": "178a70ac-adf4-458d-b740-988241d1e8e3"
      },
      "execution_count": 90,
      "outputs": [
        {
          "output_type": "execute_result",
          "data": {
            "text/plain": [
              "   OBJECTID  Shape_Length  Shape_Area   Suelo Municipio\n",
              "0         1     36.782908   75.391901  Urbano  Medellin\n",
              "1         2     88.939109  300.200446  Urbano  Medellin\n",
              "2         3     88.577619  293.669242  Urbano  Medellin\n",
              "3         4     36.513439   74.975491  Urbano  Medellin\n",
              "4         5     59.395023  149.372524  Urbano  Medellin"
            ],
            "text/html": [
              "\n",
              "  <div id=\"df-9650f026-2915-4970-b284-2b72945a46ed\">\n",
              "    <div class=\"colab-df-container\">\n",
              "      <div>\n",
              "<style scoped>\n",
              "    .dataframe tbody tr th:only-of-type {\n",
              "        vertical-align: middle;\n",
              "    }\n",
              "\n",
              "    .dataframe tbody tr th {\n",
              "        vertical-align: top;\n",
              "    }\n",
              "\n",
              "    .dataframe thead th {\n",
              "        text-align: right;\n",
              "    }\n",
              "</style>\n",
              "<table border=\"1\" class=\"dataframe\">\n",
              "  <thead>\n",
              "    <tr style=\"text-align: right;\">\n",
              "      <th></th>\n",
              "      <th>OBJECTID</th>\n",
              "      <th>Shape_Length</th>\n",
              "      <th>Shape_Area</th>\n",
              "      <th>Suelo</th>\n",
              "      <th>Municipio</th>\n",
              "    </tr>\n",
              "  </thead>\n",
              "  <tbody>\n",
              "    <tr>\n",
              "      <th>0</th>\n",
              "      <td>1</td>\n",
              "      <td>36.782908</td>\n",
              "      <td>75.391901</td>\n",
              "      <td>Urbano</td>\n",
              "      <td>Medellin</td>\n",
              "    </tr>\n",
              "    <tr>\n",
              "      <th>1</th>\n",
              "      <td>2</td>\n",
              "      <td>88.939109</td>\n",
              "      <td>300.200446</td>\n",
              "      <td>Urbano</td>\n",
              "      <td>Medellin</td>\n",
              "    </tr>\n",
              "    <tr>\n",
              "      <th>2</th>\n",
              "      <td>3</td>\n",
              "      <td>88.577619</td>\n",
              "      <td>293.669242</td>\n",
              "      <td>Urbano</td>\n",
              "      <td>Medellin</td>\n",
              "    </tr>\n",
              "    <tr>\n",
              "      <th>3</th>\n",
              "      <td>4</td>\n",
              "      <td>36.513439</td>\n",
              "      <td>74.975491</td>\n",
              "      <td>Urbano</td>\n",
              "      <td>Medellin</td>\n",
              "    </tr>\n",
              "    <tr>\n",
              "      <th>4</th>\n",
              "      <td>5</td>\n",
              "      <td>59.395023</td>\n",
              "      <td>149.372524</td>\n",
              "      <td>Urbano</td>\n",
              "      <td>Medellin</td>\n",
              "    </tr>\n",
              "  </tbody>\n",
              "</table>\n",
              "</div>\n",
              "      <button class=\"colab-df-convert\" onclick=\"convertToInteractive('df-9650f026-2915-4970-b284-2b72945a46ed')\"\n",
              "              title=\"Convert this dataframe to an interactive table.\"\n",
              "              style=\"display:none;\">\n",
              "        \n",
              "  <svg xmlns=\"http://www.w3.org/2000/svg\" height=\"24px\"viewBox=\"0 0 24 24\"\n",
              "       width=\"24px\">\n",
              "    <path d=\"M0 0h24v24H0V0z\" fill=\"none\"/>\n",
              "    <path d=\"M18.56 5.44l.94 2.06.94-2.06 2.06-.94-2.06-.94-.94-2.06-.94 2.06-2.06.94zm-11 1L8.5 8.5l.94-2.06 2.06-.94-2.06-.94L8.5 2.5l-.94 2.06-2.06.94zm10 10l.94 2.06.94-2.06 2.06-.94-2.06-.94-.94-2.06-.94 2.06-2.06.94z\"/><path d=\"M17.41 7.96l-1.37-1.37c-.4-.4-.92-.59-1.43-.59-.52 0-1.04.2-1.43.59L10.3 9.45l-7.72 7.72c-.78.78-.78 2.05 0 2.83L4 21.41c.39.39.9.59 1.41.59.51 0 1.02-.2 1.41-.59l7.78-7.78 2.81-2.81c.8-.78.8-2.07 0-2.86zM5.41 20L4 18.59l7.72-7.72 1.47 1.35L5.41 20z\"/>\n",
              "  </svg>\n",
              "      </button>\n",
              "      \n",
              "  <style>\n",
              "    .colab-df-container {\n",
              "      display:flex;\n",
              "      flex-wrap:wrap;\n",
              "      gap: 12px;\n",
              "    }\n",
              "\n",
              "    .colab-df-convert {\n",
              "      background-color: #E8F0FE;\n",
              "      border: none;\n",
              "      border-radius: 50%;\n",
              "      cursor: pointer;\n",
              "      display: none;\n",
              "      fill: #1967D2;\n",
              "      height: 32px;\n",
              "      padding: 0 0 0 0;\n",
              "      width: 32px;\n",
              "    }\n",
              "\n",
              "    .colab-df-convert:hover {\n",
              "      background-color: #E2EBFA;\n",
              "      box-shadow: 0px 1px 2px rgba(60, 64, 67, 0.3), 0px 1px 3px 1px rgba(60, 64, 67, 0.15);\n",
              "      fill: #174EA6;\n",
              "    }\n",
              "\n",
              "    [theme=dark] .colab-df-convert {\n",
              "      background-color: #3B4455;\n",
              "      fill: #D2E3FC;\n",
              "    }\n",
              "\n",
              "    [theme=dark] .colab-df-convert:hover {\n",
              "      background-color: #434B5C;\n",
              "      box-shadow: 0px 1px 3px 1px rgba(0, 0, 0, 0.15);\n",
              "      filter: drop-shadow(0px 1px 2px rgba(0, 0, 0, 0.3));\n",
              "      fill: #FFFFFF;\n",
              "    }\n",
              "  </style>\n",
              "\n",
              "      <script>\n",
              "        const buttonEl =\n",
              "          document.querySelector('#df-9650f026-2915-4970-b284-2b72945a46ed button.colab-df-convert');\n",
              "        buttonEl.style.display =\n",
              "          google.colab.kernel.accessAllowed ? 'block' : 'none';\n",
              "\n",
              "        async function convertToInteractive(key) {\n",
              "          const element = document.querySelector('#df-9650f026-2915-4970-b284-2b72945a46ed');\n",
              "          const dataTable =\n",
              "            await google.colab.kernel.invokeFunction('convertToInteractive',\n",
              "                                                     [key], {});\n",
              "          if (!dataTable) return;\n",
              "\n",
              "          const docLinkHtml = 'Like what you see? Visit the ' +\n",
              "            '<a target=\"_blank\" href=https://colab.research.google.com/notebooks/data_table.ipynb>data table notebook</a>'\n",
              "            + ' to learn more about interactive tables.';\n",
              "          element.innerHTML = '';\n",
              "          dataTable['output_type'] = 'display_data';\n",
              "          await google.colab.output.renderOutput(dataTable, element);\n",
              "          const docLink = document.createElement('div');\n",
              "          docLink.innerHTML = docLinkHtml;\n",
              "          element.appendChild(docLink);\n",
              "        }\n",
              "      </script>\n",
              "    </div>\n",
              "  </div>\n",
              "  "
            ]
          },
          "metadata": {},
          "execution_count": 90
        }
      ]
    },
    {
      "cell_type": "markdown",
      "source": [
        "---"
      ],
      "metadata": {
        "id": "lrbn_rEy6KfK"
      }
    },
    {
      "cell_type": "markdown",
      "source": [
        "## **Barbosa**"
      ],
      "metadata": {
        "id": "Z29rflEyiaM3"
      }
    },
    {
      "cell_type": "code",
      "source": [
        "Municipio = 'Barbosa'\n",
        "Separador = ' - '\n",
        "Suelo= 'Rural'\n",
        "\n",
        "Municipio_ = df[(df['Municipio'] == Municipio)]\n",
        "MunicipioUrbano = Municipio_[(Municipio_['Suelo'] == 'Urbano')]\n",
        "MunicipioRural = Municipio_[(Municipio_['Suelo'] == 'Rural')]\n",
        "\n",
        "MunicipioAreaRural = MunicipioRural[['Shape_Area']].to_numpy()\n",
        "MunicipioAreaUrbana = MunicipioUrbano[['Shape_Area']].to_numpy()\n",
        "\n",
        "print('Figura Barbosa Rural')\n",
        "fig1, ax1 = plt.subplots()\n",
        "ax1.set_title('Área de lote sin atípicos')\n",
        "ax1.set_xlabel(Municipio + Separador + Suelo)\n",
        "ax1.set_ylabel('Área de Lote')\n",
        "ax1.boxplot(MunicipioAreaRural, showfliers=False)\n",
        "\n",
        "Suelo = 'Urbano'\n",
        "\n",
        "print('Figura Barbosa Urbano')\n",
        "fig2, ax2 = plt.subplots()\n",
        "ax2.set_title('Área de lote sin atípicos')\n",
        "ax2.set_xlabel(Municipio + Separador + Suelo)\n",
        "ax2.set_ylabel('Área de Lote')\n",
        "ax2.boxplot(MunicipioAreaUrbana, showfliers=False)"
      ],
      "metadata": {
        "colab": {
          "base_uri": "https://localhost:8080/",
          "height": 751
        },
        "id": "4znk4Ff6ihwH",
        "outputId": "025e4f4c-d42e-4cca-bcf9-544be8e1fde7"
      },
      "execution_count": 91,
      "outputs": [
        {
          "output_type": "stream",
          "name": "stdout",
          "text": [
            "Figura Barbosa Rural\n",
            "Figura Barbosa Urbano\n"
          ]
        },
        {
          "output_type": "execute_result",
          "data": {
            "text/plain": [
              "{'whiskers': [<matplotlib.lines.Line2D at 0x7f11bf2cead0>,\n",
              "  <matplotlib.lines.Line2D at 0x7f11bf2d2050>],\n",
              " 'caps': [<matplotlib.lines.Line2D at 0x7f11bf2d2590>,\n",
              "  <matplotlib.lines.Line2D at 0x7f11bf2d2ad0>],\n",
              " 'boxes': [<matplotlib.lines.Line2D at 0x7f11bf2ce510>],\n",
              " 'medians': [<matplotlib.lines.Line2D at 0x7f11bf2d9090>],\n",
              " 'fliers': [],\n",
              " 'means': []}"
            ]
          },
          "metadata": {},
          "execution_count": 91
        },
        {
          "output_type": "display_data",
          "data": {
            "text/plain": [
              "<Figure size 432x288 with 1 Axes>"
            ],
            "image/png": "[encoded data removed]"
          },
          "metadata": {
            "needs_background": "light"
          }
        },
        {
          "output_type": "display_data",
          "data": {
            "text/plain": [
              "<Figure size 432x288 with 1 Axes>"
            ],
            "image/png": "[encoded data removed]"
          },
          "metadata": {
            "needs_background": "light"
          }
        }
      ]
    },
    {
      "cell_type": "code",
      "source": [
        "cuartilesRural = np.quantile(MunicipioAreaRural, [0,0.25,0.5,0.75,1])\n",
        "cuartilesUrbano = np.quantile(MunicipioAreaUrbana, [0,0.25,0.5,0.75,1])\n",
        "cuartil = ['Primer Cuartil', 'Segundo Cuartil', 'Tercer Cuartil', 'Cuarto Cuartil']\n",
        "cuartilesRural = list(cuartilesRural)\n",
        "cuartilesUrbano = list(cuartilesUrbano)\n",
        "\n",
        "for i in range(len(cuartilesRural)):\n",
        "    x = int(round(cuartilesRural[i],0))\n",
        "    cuartilesRural[i] = x\n",
        "    y = int(round(cuartilesUrbano[i],0))\n",
        "    cuartilesUrbano[i] = y\n",
        "#Impresion del cuartiles\n",
        "print('Cuartiles Rurales')\n",
        "CuartilesRurales = 'Primer cuartil \\t [{0:,.0f}; {1:,.0f}] \\nSegundo cuartil \\t [{1:,.0f}; {2:,.0f}] \\nTercer cuartil \\t [{2:,.0f}; {3:,.0f}] \\nCuarto cuartil \\t [{3:,.0f}; {4:,.0f}]'.format(cuartilesRural[0], cuartilesRural[1], cuartilesRural[2], cuartilesRural[3], cuartilesRural[4])\n",
        "print(CuartilesRurales)\n",
        "print('Cuartiles Urbanos')\n",
        "CuartilesUrbanos = 'Primer cuartil \\t [{0:,.0f}; {1:,.0f}] \\nSegundo cuartil \\t [{1:,.0f}; {2:,.0f}] \\nTercer cuartil \\t [{2:,.0f}; {3:,.0f}] \\nCuarto cuartil \\t [{3:,.0f}; {4:,.0f}]'.format(cuartilesUrbano[0], cuartilesUrbano[1], cuartilesUrbano[2], cuartilesUrbano[3], cuartilesUrbano[4])\n",
        "print(CuartilesUrbanos)"
      ],
      "metadata": {
        "colab": {
          "base_uri": "https://localhost:8080/"
        },
        "id": "tNmmvdmNiqzT",
        "outputId": "639065cb-a469-472e-dc2a-f74c6f8fd890"
      },
      "execution_count": 92,
      "outputs": [
        {
          "output_type": "stream",
          "name": "stdout",
          "text": [
            "Cuartiles Rurales\n",
            "Primer cuartil \t [9; 1,570] \n",
            "Segundo cuartil \t [1,570; 5,401] \n",
            "Tercer cuartil \t [5,401; 15,983] \n",
            "Cuarto cuartil \t [15,983; 2,197,085]\n",
            "Cuartiles Urbanos\n",
            "Primer cuartil \t [6; 49] \n",
            "Segundo cuartil \t [49; 76] \n",
            "Tercer cuartil \t [76; 143] \n",
            "Cuarto cuartil \t [143; 254,513]\n"
          ]
        }
      ]
    },
    {
      "cell_type": "markdown",
      "source": [
        "---"
      ],
      "metadata": {
        "id": "dyAEyAiN6MDv"
      }
    },
    {
      "cell_type": "markdown",
      "source": [
        "## **Bello**"
      ],
      "metadata": {
        "id": "4ChKMJC81NdY"
      }
    },
    {
      "cell_type": "code",
      "source": [
        "Municipio = 'Bello'\n",
        "Separador = ' - '\n",
        "Suelo= 'Rural'\n",
        "\n",
        "Municipio_ = df[(df['Municipio'] == Municipio)]\n",
        "MunicipioUrbano = Municipio_[(Municipio_['Suelo'] == 'Urbano')]\n",
        "MunicipioRural = Municipio_[(Municipio_['Suelo'] == 'Rural')]\n",
        "\n",
        "MunicipioAreaRural = MunicipioRural[['Shape_Area']].to_numpy()\n",
        "MunicipioAreaUrbana = MunicipioUrbano[['Shape_Area']].to_numpy()\n",
        "\n",
        "print('Figura ' + Municipio + ' ' + Suelo)\n",
        "fig1, ax1 = plt.subplots()\n",
        "ax1.set_title('Área de lote sin atípicos')\n",
        "ax1.set_xlabel(Municipio + Separador + Suelo)\n",
        "ax1.set_ylabel('Área de Lote')\n",
        "ax1.boxplot(MunicipioAreaRural, showfliers=False)\n",
        "\n",
        "Suelo = 'Urbano'\n",
        "\n",
        "print('Figura ' + Municipio + ' ' + Suelo)\n",
        "fig2, ax2 = plt.subplots()\n",
        "ax2.set_title('Área de lote sin atípicos')\n",
        "ax2.set_xlabel(Municipio + Separador + Suelo)\n",
        "ax2.set_ylabel('Área de Lote')\n",
        "ax2.boxplot(MunicipioAreaUrbana, showfliers=False)"
      ],
      "metadata": {
        "colab": {
          "base_uri": "https://localhost:8080/",
          "height": 751
        },
        "id": "BTIJJ5Kc1X92",
        "outputId": "4a23dd40-589f-4a2e-cd24-6942dc579d69"
      },
      "execution_count": 93,
      "outputs": [
        {
          "output_type": "stream",
          "name": "stdout",
          "text": [
            "Figura Bello Rural\n",
            "Figura Bello Urbano\n"
          ]
        },
        {
          "output_type": "execute_result",
          "data": {
            "text/plain": [
              "{'whiskers': [<matplotlib.lines.Line2D at 0x7f11bf1ea610>,\n",
              "  <matplotlib.lines.Line2D at 0x7f11bf1eab50>],\n",
              " 'caps': [<matplotlib.lines.Line2D at 0x7f11bf1700d0>,\n",
              "  <matplotlib.lines.Line2D at 0x7f11bf170610>],\n",
              " 'boxes': [<matplotlib.lines.Line2D at 0x7f11bf1ea050>],\n",
              " 'medians': [<matplotlib.lines.Line2D at 0x7f11bf170b90>],\n",
              " 'fliers': [],\n",
              " 'means': []}"
            ]
          },
          "metadata": {},
          "execution_count": 93
        },
        {
          "output_type": "display_data",
          "data": {
            "text/plain": [
              "<Figure size 432x288 with 1 Axes>"
            ],
            "image/png": "[encoded data removed]"
          },
          "metadata": {
            "needs_background": "light"
          }
        },
        {
          "output_type": "display_data",
          "data": {
            "text/plain": [
              "<Figure size 432x288 with 1 Axes>"
            ],
            "image/png": "[encoded data removed]"
          },
          "metadata": {
            "needs_background": "light"
          }
        }
      ]
    },
    {
      "cell_type": "code",
      "source": [
        "cuartilesRural = np.quantile(MunicipioAreaRural, [0,0.25,0.5,0.75,1])\n",
        "cuartilesUrbano = np.quantile(MunicipioAreaUrbana, [0,0.25,0.5,0.75,1])\n",
        "cuartil = ['Primer Cuartil', 'Segundo Cuartil', 'Tercer Cuartil', 'Cuarto Cuartil']\n",
        "cuartilesRural = list(cuartilesRural)\n",
        "cuartilesUrbano = list(cuartilesUrbano)\n",
        "\n",
        "for i in range(len(cuartilesRural)):\n",
        "    x = int(round(cuartilesRural[i],0))\n",
        "    cuartilesRural[i] = x\n",
        "    y = int(round(cuartilesUrbano[i],0))\n",
        "    cuartilesUrbano[i] = y\n",
        "#Impresion del cuartiles\n",
        "print('Cuartiles Rurales')\n",
        "CuartilesRurales = 'Primer cuartil \\t [{0:,.0f}; {1:,.0f}] \\nSegundo cuartil \\t [{1:,.0f}; {2:,.0f}] \\nTercer cuartil \\t [{2:,.0f}; {3:,.0f}] \\nCuarto cuartil \\t [{3:,.0f}; {4:,.0f}]'.format(cuartilesRural[0], cuartilesRural[1], cuartilesRural[2], cuartilesRural[3], cuartilesRural[4])\n",
        "print(CuartilesRurales)\n",
        "print('Cuartiles Urbanos')\n",
        "CuartilesUrbanos = 'Primer cuartil \\t [{0:,.0f}; {1:,.0f}] \\nSegundo cuartil \\t [{1:,.0f}; {2:,.0f}] \\nTercer cuartil \\t [{2:,.0f}; {3:,.0f}] \\nCuarto cuartil \\t [{3:,.0f}; {4:,.0f}]'.format(cuartilesUrbano[0], cuartilesUrbano[1], cuartilesUrbano[2], cuartilesUrbano[3], cuartilesUrbano[4])\n",
        "print(CuartilesUrbanos)"
      ],
      "metadata": {
        "colab": {
          "base_uri": "https://localhost:8080/"
        },
        "id": "41UVKlgf1al7",
        "outputId": "2729d92d-a7c7-475f-e1d1-111832034e26"
      },
      "execution_count": 94,
      "outputs": [
        {
          "output_type": "stream",
          "name": "stdout",
          "text": [
            "Cuartiles Rurales\n",
            "Primer cuartil \t [9; 233] \n",
            "Segundo cuartil \t [233; 2,709] \n",
            "Tercer cuartil \t [2,709; 15,352] \n",
            "Cuarto cuartil \t [15,352; 5,225,309]\n",
            "Cuartiles Urbanos\n",
            "Primer cuartil \t [0; 67] \n",
            "Segundo cuartil \t [67; 93] \n",
            "Tercer cuartil \t [93; 139] \n",
            "Cuarto cuartil \t [139; 612,297]\n"
          ]
        }
      ]
    },
    {
      "cell_type": "markdown",
      "source": [
        "---"
      ],
      "metadata": {
        "id": "UKu1x6t_6Ocl"
      }
    },
    {
      "cell_type": "markdown",
      "source": [
        "## **Caldas**"
      ],
      "metadata": {
        "id": "b-L0b3DH5VPG"
      }
    },
    {
      "cell_type": "code",
      "source": [
        "Municipio = 'Caldas'\n",
        "Separador = ' - '\n",
        "Suelo= 'Rural'\n",
        "\n",
        "Municipio_ = df[(df['Municipio'] == Municipio)]\n",
        "MunicipioUrbano = Municipio_[(Municipio_['Suelo'] == 'Urbano')]\n",
        "MunicipioRural = Municipio_[(Municipio_['Suelo'] == 'Rural')]\n",
        "\n",
        "MunicipioAreaRural = MunicipioRural[['Shape_Area']].to_numpy()\n",
        "MunicipioAreaUrbana = MunicipioUrbano[['Shape_Area']].to_numpy()\n",
        "\n",
        "print('Figura ' + Municipio + ' ' + Suelo)\n",
        "fig1, ax1 = plt.subplots()\n",
        "ax1.set_title('Área de lote sin atípicos')\n",
        "ax1.set_xlabel(Municipio + Separador + Suelo)\n",
        "ax1.set_ylabel('Área de Lote')\n",
        "ax1.boxplot(MunicipioAreaRural, showfliers=False)\n",
        "\n",
        "Suelo = 'Urbano'\n",
        "\n",
        "print('Figura ' + Municipio + ' ' + Suelo)\n",
        "fig2, ax2 = plt.subplots()\n",
        "ax2.set_title('Área de lote sin atípicos')\n",
        "ax2.set_xlabel(Municipio + Separador + Suelo)\n",
        "ax2.set_ylabel('Área de Lote')\n",
        "ax2.boxplot(MunicipioAreaUrbana, showfliers=False)"
      ],
      "metadata": {
        "colab": {
          "base_uri": "https://localhost:8080/",
          "height": 751
        },
        "outputId": "def5534b-2cbe-4519-e23c-18260c97e814",
        "id": "w_h4MfIH5VPG"
      },
      "execution_count": 95,
      "outputs": [
        {
          "output_type": "stream",
          "name": "stdout",
          "text": [
            "Figura Caldas Rural\n",
            "Figura Caldas Urbano\n"
          ]
        },
        {
          "output_type": "execute_result",
          "data": {
            "text/plain": [
              "{'whiskers': [<matplotlib.lines.Line2D at 0x7f11bf0d1150>,\n",
              "  <matplotlib.lines.Line2D at 0x7f11bf0d1690>],\n",
              " 'caps': [<matplotlib.lines.Line2D at 0x7f11bf0d1bd0>,\n",
              "  <matplotlib.lines.Line2D at 0x7f11bf0da150>],\n",
              " 'boxes': [<matplotlib.lines.Line2D at 0x7f11bf0ccb50>],\n",
              " 'medians': [<matplotlib.lines.Line2D at 0x7f11bf0da6d0>],\n",
              " 'fliers': [],\n",
              " 'means': []}"
            ]
          },
          "metadata": {},
          "execution_count": 95
        },
        {
          "output_type": "display_data",
          "data": {
            "text/plain": [
              "<Figure size 432x288 with 1 Axes>"
            ],
            "image/png": "[encoded data removed]"
          },
          "metadata": {
            "needs_background": "light"
          }
        },
        {
          "output_type": "display_data",
          "data": {
            "text/plain": [
              "<Figure size 432x288 with 1 Axes>"
            ],
            "image/png": "[encoded data removed]"
          },
          "metadata": {
            "needs_background": "light"
          }
        }
      ]
    },
    {
      "cell_type": "code",
      "source": [
        "cuartilesRural = np.quantile(MunicipioAreaRural, [0,0.25,0.5,0.75,1])\n",
        "cuartilesUrbano = np.quantile(MunicipioAreaUrbana, [0,0.25,0.5,0.75,1])\n",
        "cuartil = ['Primer Cuartil', 'Segundo Cuartil', 'Tercer Cuartil', 'Cuarto Cuartil']\n",
        "cuartilesRural = list(cuartilesRural)\n",
        "cuartilesUrbano = list(cuartilesUrbano)\n",
        "\n",
        "for i in range(len(cuartilesRural)):\n",
        "    x = int(round(cuartilesRural[i],0))\n",
        "    cuartilesRural[i] = x\n",
        "    y = int(round(cuartilesUrbano[i],0))\n",
        "    cuartilesUrbano[i] = y\n",
        "#Impresion del cuartiles\n",
        "print('Cuartiles Rurales')\n",
        "CuartilesRurales = 'Primer cuartil \\t [{0:,.0f}; {1:,.0f}] \\nSegundo cuartil \\t [{1:,.0f}; {2:,.0f}] \\nTercer cuartil \\t [{2:,.0f}; {3:,.0f}] \\nCuarto cuartil \\t [{3:,.0f}; {4:,.0f}]'.format(cuartilesRural[0], cuartilesRural[1], cuartilesRural[2], cuartilesRural[3], cuartilesRural[4])\n",
        "print(CuartilesRurales)\n",
        "print('Cuartiles Urbanos')\n",
        "CuartilesUrbanos = 'Primer cuartil \\t [{0:,.0f}; {1:,.0f}] \\nSegundo cuartil \\t [{1:,.0f}; {2:,.0f}] \\nTercer cuartil \\t [{2:,.0f}; {3:,.0f}] \\nCuarto cuartil \\t [{3:,.0f}; {4:,.0f}]'.format(cuartilesUrbano[0], cuartilesUrbano[1], cuartilesUrbano[2], cuartilesUrbano[3], cuartilesUrbano[4])\n",
        "print(CuartilesUrbanos)"
      ],
      "metadata": {
        "colab": {
          "base_uri": "https://localhost:8080/"
        },
        "outputId": "e1e1ab97-1a3c-405d-d96c-b4e6f831c737",
        "id": "fsQQOljR5VPG"
      },
      "execution_count": 96,
      "outputs": [
        {
          "output_type": "stream",
          "name": "stdout",
          "text": [
            "Cuartiles Rurales\n",
            "Primer cuartil \t [2; 155] \n",
            "Segundo cuartil \t [155; 1,191] \n",
            "Tercer cuartil \t [1,191; 7,761] \n",
            "Cuarto cuartil \t [7,761; 10,728,942]\n",
            "Cuartiles Urbanos\n",
            "Primer cuartil \t [4; 71] \n",
            "Segundo cuartil \t [71; 106] \n",
            "Tercer cuartil \t [106; 164] \n",
            "Cuarto cuartil \t [164; 370,082]\n"
          ]
        }
      ]
    },
    {
      "cell_type": "markdown",
      "source": [
        "---"
      ],
      "metadata": {
        "id": "ZGPb93la6QAb"
      }
    },
    {
      "cell_type": "markdown",
      "source": [
        "## **Copacabana**"
      ],
      "metadata": {
        "id": "sOL2qP7P5V5d"
      }
    },
    {
      "cell_type": "code",
      "source": [
        "Municipio = 'Copacabana'\n",
        "Separador = ' - '\n",
        "Suelo= 'Rural'\n",
        "\n",
        "Municipio_ = df[(df['Municipio'] == Municipio)]\n",
        "MunicipioUrbano = Municipio_[(Municipio_['Suelo'] == 'Urbano')]\n",
        "MunicipioRural = Municipio_[(Municipio_['Suelo'] == 'Rural')]\n",
        "\n",
        "MunicipioAreaRural = MunicipioRural[['Shape_Area']].to_numpy()\n",
        "MunicipioAreaUrbana = MunicipioUrbano[['Shape_Area']].to_numpy()\n",
        "\n",
        "print('Figura ' + Municipio + ' ' + Suelo)\n",
        "fig1, ax1 = plt.subplots()\n",
        "ax1.set_title('Área de lote sin atípicos')\n",
        "ax1.set_xlabel(Municipio + Separador + Suelo)\n",
        "ax1.set_ylabel('Área de Lote')\n",
        "ax1.boxplot(MunicipioAreaRural, showfliers=False)\n",
        "\n",
        "Suelo = 'Urbano'\n",
        "\n",
        "print('Figura ' + Municipio + ' ' + Suelo)\n",
        "fig2, ax2 = plt.subplots()\n",
        "ax2.set_title('Área de lote sin atípicos')\n",
        "ax2.set_xlabel(Municipio + Separador + Suelo)\n",
        "ax2.set_ylabel('Área de Lote')\n",
        "ax2.boxplot(MunicipioAreaUrbana, showfliers=False)"
      ],
      "metadata": {
        "colab": {
          "base_uri": "https://localhost:8080/",
          "height": 751
        },
        "outputId": "d9440bbf-ddc9-4d0e-f3a3-2f5e44e2080b",
        "id": "zZ-4t-jp5V5d"
      },
      "execution_count": 97,
      "outputs": [
        {
          "output_type": "stream",
          "name": "stdout",
          "text": [
            "Figura Copacabana Rural\n",
            "Figura Copacabana Urbano\n"
          ]
        },
        {
          "output_type": "execute_result",
          "data": {
            "text/plain": [
              "{'whiskers': [<matplotlib.lines.Line2D at 0x7f11bf027d90>,\n",
              "  <matplotlib.lines.Line2D at 0x7f11bf02c310>],\n",
              " 'caps': [<matplotlib.lines.Line2D at 0x7f11bf02c850>,\n",
              "  <matplotlib.lines.Line2D at 0x7f11bf02cd90>],\n",
              " 'boxes': [<matplotlib.lines.Line2D at 0x7f11bf0277d0>],\n",
              " 'medians': [<matplotlib.lines.Line2D at 0x7f11befb2350>],\n",
              " 'fliers': [],\n",
              " 'means': []}"
            ]
          },
          "metadata": {},
          "execution_count": 97
        },
        {
          "output_type": "display_data",
          "data": {
            "text/plain": [
              "<Figure size 432x288 with 1 Axes>"
            ],
            "image/png": "[encoded data removed]"
          },
          "metadata": {
            "needs_background": "light"
          }
        },
        {
          "output_type": "display_data",
          "data": {
            "text/plain": [
              "<Figure size 432x288 with 1 Axes>"
            ],
            "image/png": "[encoded data removed]"
          },
          "metadata": {
            "needs_background": "light"
          }
        }
      ]
    },
    {
      "cell_type": "code",
      "source": [
        "cuartilesRural = np.quantile(MunicipioAreaRural, [0,0.25,0.5,0.75,1])\n",
        "cuartilesUrbano = np.quantile(MunicipioAreaUrbana, [0,0.25,0.5,0.75,1])\n",
        "cuartil = ['Primer Cuartil', 'Segundo Cuartil', 'Tercer Cuartil', 'Cuarto Cuartil']\n",
        "cuartilesRural = list(cuartilesRural)\n",
        "cuartilesUrbano = list(cuartilesUrbano)\n",
        "\n",
        "for i in range(len(cuartilesRural)):\n",
        "    x = int(round(cuartilesRural[i],0))\n",
        "    cuartilesRural[i] = x\n",
        "    y = int(round(cuartilesUrbano[i],0))\n",
        "    cuartilesUrbano[i] = y\n",
        "#Impresion del cuartiles\n",
        "print('Cuartiles Rurales')\n",
        "CuartilesRurales = 'Primer cuartil \\t [{0:,.0f}; {1:,.0f}] \\nSegundo cuartil \\t [{1:,.0f}; {2:,.0f}] \\nTercer cuartil \\t [{2:,.0f}; {3:,.0f}] \\nCuarto cuartil \\t [{3:,.0f}; {4:,.0f}]'.format(cuartilesRural[0], cuartilesRural[1], cuartilesRural[2], cuartilesRural[3], cuartilesRural[4])\n",
        "print(CuartilesRurales)\n",
        "print('Cuartiles Urbanos')\n",
        "CuartilesUrbanos = 'Primer cuartil \\t [{0:,.0f}; {1:,.0f}] \\nSegundo cuartil \\t [{1:,.0f}; {2:,.0f}] \\nTercer cuartil \\t [{2:,.0f}; {3:,.0f}] \\nCuarto cuartil \\t [{3:,.0f}; {4:,.0f}]'.format(cuartilesUrbano[0], cuartilesUrbano[1], cuartilesUrbano[2], cuartilesUrbano[3], cuartilesUrbano[4])\n",
        "print(CuartilesUrbanos)"
      ],
      "metadata": {
        "colab": {
          "base_uri": "https://localhost:8080/"
        },
        "outputId": "dc6242de-6431-4f3b-82d3-36f012dc9b9a",
        "id": "MDPWDcgJ5V5d"
      },
      "execution_count": 98,
      "outputs": [
        {
          "output_type": "stream",
          "name": "stdout",
          "text": [
            "Cuartiles Rurales\n",
            "Primer cuartil \t [4; 770] \n",
            "Segundo cuartil \t [770; 2,677] \n",
            "Tercer cuartil \t [2,677; 6,622] \n",
            "Cuarto cuartil \t [6,622; 2,578,887]\n",
            "Cuartiles Urbanos\n",
            "Primer cuartil \t [4; 81] \n",
            "Segundo cuartil \t [81; 127] \n",
            "Tercer cuartil \t [127; 192] \n",
            "Cuarto cuartil \t [192; 156,907]\n"
          ]
        }
      ]
    },
    {
      "cell_type": "markdown",
      "source": [
        "---"
      ],
      "metadata": {
        "id": "RnKifKEU6RhP"
      }
    },
    {
      "cell_type": "markdown",
      "source": [
        "## **Envigado**"
      ],
      "metadata": {
        "id": "kFyAynmJ5Wdu"
      }
    },
    {
      "cell_type": "code",
      "source": [
        "Municipio = 'Envigado'\n",
        "Separador = ' - '\n",
        "Suelo= 'Rural'\n",
        "\n",
        "Municipio_ = df[(df['Municipio'] == Municipio)]\n",
        "MunicipioUrbano = Municipio_[(Municipio_['Suelo'] == 'Urbano')]\n",
        "MunicipioRural = Municipio_[(Municipio_['Suelo'] == 'Rural')]\n",
        "\n",
        "MunicipioAreaRural = MunicipioRural[['Shape_Area']].to_numpy()\n",
        "MunicipioAreaUrbana = MunicipioUrbano[['Shape_Area']].to_numpy()\n",
        "\n",
        "print('Figura ' + Municipio + ' ' + Suelo)\n",
        "fig1, ax1 = plt.subplots()\n",
        "ax1.set_title('Área de lote sin atípicos')\n",
        "ax1.set_xlabel(Municipio + Separador + Suelo)\n",
        "ax1.set_ylabel('Área de Lote')\n",
        "ax1.boxplot(MunicipioAreaRural, showfliers=False)\n",
        "\n",
        "Suelo = 'Urbano'\n",
        "\n",
        "print('Figura ' + Municipio + ' ' + Suelo)\n",
        "fig2, ax2 = plt.subplots()\n",
        "ax2.set_title('Área de lote sin atípicos')\n",
        "ax2.set_xlabel(Municipio + Separador + Suelo)\n",
        "ax2.set_ylabel('Área de Lote')\n",
        "ax2.boxplot(MunicipioAreaUrbana, showfliers=False)"
      ],
      "metadata": {
        "colab": {
          "base_uri": "https://localhost:8080/",
          "height": 751
        },
        "outputId": "2971e68a-cb0e-4c97-ad39-f6e668846788",
        "id": "yTA3BaLQ5Wdu"
      },
      "execution_count": 99,
      "outputs": [
        {
          "output_type": "stream",
          "name": "stdout",
          "text": [
            "Figura Envigado Rural\n",
            "Figura Envigado Urbano\n"
          ]
        },
        {
          "output_type": "execute_result",
          "data": {
            "text/plain": [
              "{'whiskers': [<matplotlib.lines.Line2D at 0x7f11bf206250>,\n",
              "  <matplotlib.lines.Line2D at 0x7f11bf2063d0>],\n",
              " 'caps': [<matplotlib.lines.Line2D at 0x7f11bf206f50>,\n",
              "  <matplotlib.lines.Line2D at 0x7f11bf248650>],\n",
              " 'boxes': [<matplotlib.lines.Line2D at 0x7f11bf222dd0>],\n",
              " 'medians': [<matplotlib.lines.Line2D at 0x7f11bf1aac50>],\n",
              " 'fliers': [],\n",
              " 'means': []}"
            ]
          },
          "metadata": {},
          "execution_count": 99
        },
        {
          "output_type": "display_data",
          "data": {
            "text/plain": [
              "<Figure size 432x288 with 1 Axes>"
            ],
            "image/png": "[encoded data removed]"
          },
          "metadata": {
            "needs_background": "light"
          }
        },
        {
          "output_type": "display_data",
          "data": {
            "text/plain": [
              "<Figure size 432x288 with 1 Axes>"
            ],
            "image/png": "[encoded data removed]"
          },
          "metadata": {
            "needs_background": "light"
          }
        }
      ]
    },
    {
      "cell_type": "code",
      "source": [
        "cuartilesRural = np.quantile(MunicipioAreaRural, [0,0.25,0.5,0.75,1])\n",
        "cuartilesUrbano = np.quantile(MunicipioAreaUrbana, [0,0.25,0.5,0.75,1])\n",
        "cuartil = ['Primer Cuartil', 'Segundo Cuartil', 'Tercer Cuartil', 'Cuarto Cuartil']\n",
        "cuartilesRural = list(cuartilesRural)\n",
        "cuartilesUrbano = list(cuartilesUrbano)\n",
        "\n",
        "for i in range(len(cuartilesRural)):\n",
        "    x = int(round(cuartilesRural[i],0))\n",
        "    cuartilesRural[i] = x\n",
        "    y = int(round(cuartilesUrbano[i],0))\n",
        "    cuartilesUrbano[i] = y\n",
        "#Impresion del cuartiles\n",
        "print('Cuartiles Rurales')\n",
        "CuartilesRurales = 'Primer cuartil \\t [{0:,.0f}; {1:,.0f}] \\nSegundo cuartil \\t [{1:,.0f}; {2:,.0f}] \\nTercer cuartil \\t [{2:,.0f}; {3:,.0f}] \\nCuarto cuartil \\t [{3:,.0f}; {4:,.0f}]'.format(cuartilesRural[0], cuartilesRural[1], cuartilesRural[2], cuartilesRural[3], cuartilesRural[4])\n",
        "print(CuartilesRurales)\n",
        "print('Cuartiles Urbanos')\n",
        "CuartilesUrbanos = 'Primer cuartil \\t [{0:,.0f}; {1:,.0f}] \\nSegundo cuartil \\t [{1:,.0f}; {2:,.0f}] \\nTercer cuartil \\t [{2:,.0f}; {3:,.0f}] \\nCuarto cuartil \\t [{3:,.0f}; {4:,.0f}]'.format(cuartilesUrbano[0], cuartilesUrbano[1], cuartilesUrbano[2], cuartilesUrbano[3], cuartilesUrbano[4])\n",
        "print(CuartilesUrbanos)"
      ],
      "metadata": {
        "colab": {
          "base_uri": "https://localhost:8080/"
        },
        "outputId": "3fdb171a-4717-44c3-994a-924718d9f9b8",
        "id": "5YxWzprC5Wdu"
      },
      "execution_count": 100,
      "outputs": [
        {
          "output_type": "stream",
          "name": "stdout",
          "text": [
            "Cuartiles Rurales\n",
            "Primer cuartil \t [4; 1,086] \n",
            "Segundo cuartil \t [1,086; 4,068] \n",
            "Tercer cuartil \t [4,068; 10,763] \n",
            "Cuarto cuartil \t [10,763; 1,410,068]\n",
            "Cuartiles Urbanos\n",
            "Primer cuartil \t [1; 81] \n",
            "Segundo cuartil \t [81; 133] \n",
            "Tercer cuartil \t [133; 221] \n",
            "Cuarto cuartil \t [221; 194,498]\n"
          ]
        }
      ]
    },
    {
      "cell_type": "markdown",
      "source": [
        "---"
      ],
      "metadata": {
        "id": "oj7w0AN56TYx"
      }
    },
    {
      "cell_type": "markdown",
      "source": [
        "## **Girardota**"
      ],
      "metadata": {
        "id": "RkcOY9X95W-a"
      }
    },
    {
      "cell_type": "code",
      "source": [
        "Municipio = 'Girardota'\n",
        "Separador = ' - '\n",
        "Suelo= 'Rural'\n",
        "\n",
        "Municipio_ = df[(df['Municipio'] == Municipio)]\n",
        "MunicipioUrbano = Municipio_[(Municipio_['Suelo'] == 'Urbano')]\n",
        "MunicipioRural = Municipio_[(Municipio_['Suelo'] == 'Rural')]\n",
        "\n",
        "MunicipioAreaRural = MunicipioRural[['Shape_Area']].to_numpy()\n",
        "MunicipioAreaUrbana = MunicipioUrbano[['Shape_Area']].to_numpy()\n",
        "\n",
        "print('Figura ' + Municipio + ' ' + Suelo)\n",
        "fig1, ax1 = plt.subplots()\n",
        "ax1.set_title('Área de lote sin atípicos')\n",
        "ax1.set_xlabel(Municipio + Separador + Suelo)\n",
        "ax1.set_ylabel('Área de Lote')\n",
        "ax1.boxplot(MunicipioAreaRural, showfliers=False)\n",
        "\n",
        "Suelo = 'Urbano'\n",
        "\n",
        "print('Figura ' + Municipio + ' ' + Suelo)\n",
        "fig2, ax2 = plt.subplots()\n",
        "ax2.set_title('Área de lote sin atípicos')\n",
        "ax2.set_xlabel(Municipio + Separador + Suelo)\n",
        "ax2.set_ylabel('Área de Lote')\n",
        "ax2.boxplot(MunicipioAreaUrbana, showfliers=False)"
      ],
      "metadata": {
        "colab": {
          "base_uri": "https://localhost:8080/",
          "height": 751
        },
        "outputId": "a6ff8014-edc3-4266-a08a-6a117537d9d2",
        "id": "H_nsr3hG5W-a"
      },
      "execution_count": 101,
      "outputs": [
        {
          "output_type": "stream",
          "name": "stdout",
          "text": [
            "Figura Girardota Rural\n",
            "Figura Girardota Urbano\n"
          ]
        },
        {
          "output_type": "execute_result",
          "data": {
            "text/plain": [
              "{'whiskers': [<matplotlib.lines.Line2D at 0x7f11bef7b250>,\n",
              "  <matplotlib.lines.Line2D at 0x7f11bf339290>],\n",
              " 'caps': [<matplotlib.lines.Line2D at 0x7f11bf394ed0>,\n",
              "  <matplotlib.lines.Line2D at 0x7f11bf364ad0>],\n",
              " 'boxes': [<matplotlib.lines.Line2D at 0x7f11bf339310>],\n",
              " 'medians': [<matplotlib.lines.Line2D at 0x7f11bf364790>],\n",
              " 'fliers': [],\n",
              " 'means': []}"
            ]
          },
          "metadata": {},
          "execution_count": 101
        },
        {
          "output_type": "display_data",
          "data": {
            "text/plain": [
              "<Figure size 432x288 with 1 Axes>"
            ],
            "image/png": "[encoded data removed]"
          },
          "metadata": {
            "needs_background": "light"
          }
        },
        {
          "output_type": "display_data",
          "data": {
            "text/plain": [
              "<Figure size 432x288 with 1 Axes>"
            ],
            "image/png": "[encoded data removed]"
          },
          "metadata": {
            "needs_background": "light"
          }
        }
      ]
    },
    {
      "cell_type": "code",
      "source": [
        "cuartilesRural = np.quantile(MunicipioAreaRural, [0,0.25,0.5,0.75,1])\n",
        "cuartilesUrbano = np.quantile(MunicipioAreaUrbana, [0,0.25,0.5,0.75,1])\n",
        "cuartil = ['Primer Cuartil', 'Segundo Cuartil', 'Tercer Cuartil', 'Cuarto Cuartil']\n",
        "cuartilesRural = list(cuartilesRural)\n",
        "cuartilesUrbano = list(cuartilesUrbano)\n",
        "\n",
        "for i in range(len(cuartilesRural)):\n",
        "    x = int(round(cuartilesRural[i],0))\n",
        "    cuartilesRural[i] = x\n",
        "    y = int(round(cuartilesUrbano[i],0))\n",
        "    cuartilesUrbano[i] = y\n",
        "#Impresion del cuartiles\n",
        "print('Cuartiles Rurales')\n",
        "CuartilesRurales = 'Primer cuartil \\t [{0:,.0f}; {1:,.0f}] \\nSegundo cuartil \\t [{1:,.0f}; {2:,.0f}] \\nTercer cuartil \\t [{2:,.0f}; {3:,.0f}] \\nCuarto cuartil \\t [{3:,.0f}; {4:,.0f}]'.format(cuartilesRural[0], cuartilesRural[1], cuartilesRural[2], cuartilesRural[3], cuartilesRural[4])\n",
        "print(CuartilesRurales)\n",
        "print('Cuartiles Urbanos')\n",
        "CuartilesUrbanos = 'Primer cuartil \\t [{0:,.0f}; {1:,.0f}] \\nSegundo cuartil \\t [{1:,.0f}; {2:,.0f}] \\nTercer cuartil \\t [{2:,.0f}; {3:,.0f}] \\nCuarto cuartil \\t [{3:,.0f}; {4:,.0f}]'.format(cuartilesUrbano[0], cuartilesUrbano[1], cuartilesUrbano[2], cuartilesUrbano[3], cuartilesUrbano[4])\n",
        "print(CuartilesUrbanos)"
      ],
      "metadata": {
        "colab": {
          "base_uri": "https://localhost:8080/"
        },
        "outputId": "cbd33b16-3da0-4d88-b48c-364f86986271",
        "id": "_KIvfPU95W-b"
      },
      "execution_count": 102,
      "outputs": [
        {
          "output_type": "stream",
          "name": "stdout",
          "text": [
            "Cuartiles Rurales\n",
            "Primer cuartil \t [7; 949] \n",
            "Segundo cuartil \t [949; 3,194] \n",
            "Tercer cuartil \t [3,194; 8,939] \n",
            "Cuarto cuartil \t [8,939; 874,093]\n",
            "Cuartiles Urbanos\n",
            "Primer cuartil \t [2; 70] \n",
            "Segundo cuartil \t [70; 116] \n",
            "Tercer cuartil \t [116; 198] \n",
            "Cuarto cuartil \t [198; 650,341]\n"
          ]
        }
      ]
    },
    {
      "cell_type": "markdown",
      "source": [
        "---"
      ],
      "metadata": {
        "id": "75oHKm8v6UpW"
      }
    },
    {
      "cell_type": "markdown",
      "source": [
        "## **Itagui**"
      ],
      "metadata": {
        "id": "tyeTfqxs5YNG"
      }
    },
    {
      "cell_type": "code",
      "source": [
        "Municipio = 'Itagui'\n",
        "Separador = ' - '\n",
        "Suelo= 'Rural'\n",
        "\n",
        "Municipio_ = df[(df['Municipio'] == Municipio)]\n",
        "MunicipioUrbano = Municipio_[(Municipio_['Suelo'] == 'Urbano')]\n",
        "MunicipioRural = Municipio_[(Municipio_['Suelo'] == 'Rural')]\n",
        "\n",
        "MunicipioAreaRural = MunicipioRural[['Shape_Area']].to_numpy()\n",
        "MunicipioAreaUrbana = MunicipioUrbano[['Shape_Area']].to_numpy()\n",
        "\n",
        "print('Figura ' + Municipio + ' ' + Suelo)\n",
        "fig1, ax1 = plt.subplots()\n",
        "ax1.set_title('Área de lote sin atípicos')\n",
        "ax1.set_xlabel(Municipio + Separador + Suelo)\n",
        "ax1.set_ylabel('Área de Lote')\n",
        "ax1.boxplot(MunicipioAreaRural, showfliers=False)\n",
        "\n",
        "Suelo = 'Urbano'\n",
        "\n",
        "print('Figura ' + Municipio + ' ' + Suelo)\n",
        "fig2, ax2 = plt.subplots()\n",
        "ax2.set_title('Área de lote sin atípicos')\n",
        "ax2.set_xlabel(Municipio + Separador + Suelo)\n",
        "ax2.set_ylabel('Área de Lote')\n",
        "ax2.boxplot(MunicipioAreaUrbana, showfliers=False)"
      ],
      "metadata": {
        "colab": {
          "base_uri": "https://localhost:8080/",
          "height": 751
        },
        "outputId": "f04e5654-3cb3-4e93-894c-b8ad16e28def",
        "id": "XZbd2h8L5YNG"
      },
      "execution_count": 103,
      "outputs": [
        {
          "output_type": "stream",
          "name": "stdout",
          "text": [
            "Figura Itagui Rural\n",
            "Figura Itagui Urbano\n"
          ]
        },
        {
          "output_type": "execute_result",
          "data": {
            "text/plain": [
              "{'whiskers': [<matplotlib.lines.Line2D at 0x7f11c10fdd90>,\n",
              "  <matplotlib.lines.Line2D at 0x7f11c102da90>],\n",
              " 'caps': [<matplotlib.lines.Line2D at 0x7f11c1076a90>,\n",
              "  <matplotlib.lines.Line2D at 0x7f11c00b9990>],\n",
              " 'boxes': [<matplotlib.lines.Line2D at 0x7f11c10fd510>],\n",
              " 'medians': [<matplotlib.lines.Line2D at 0x7f11c00b9fd0>],\n",
              " 'fliers': [],\n",
              " 'means': []}"
            ]
          },
          "metadata": {},
          "execution_count": 103
        },
        {
          "output_type": "display_data",
          "data": {
            "text/plain": [
              "<Figure size 432x288 with 1 Axes>"
            ],
            "image/png": "[encoded data removed]"
          },
          "metadata": {
            "needs_background": "light"
          }
        },
        {
          "output_type": "display_data",
          "data": {
            "text/plain": [
              "<Figure size 432x288 with 1 Axes>"
            ],
            "image/png": "[encoded data removed]"
          },
          "metadata": {
            "needs_background": "light"
          }
        }
      ]
    },
    {
      "cell_type": "code",
      "source": [
        "cuartilesRural = np.quantile(MunicipioAreaRural, [0,0.25,0.5,0.75,1])\n",
        "cuartilesUrbano = np.quantile(MunicipioAreaUrbana, [0,0.25,0.5,0.75,1])\n",
        "cuartil = ['Primer Cuartil', 'Segundo Cuartil', 'Tercer Cuartil', 'Cuarto Cuartil']\n",
        "cuartilesRural = list(cuartilesRural)\n",
        "cuartilesUrbano = list(cuartilesUrbano)\n",
        "\n",
        "for i in range(len(cuartilesRural)):\n",
        "    x = int(round(cuartilesRural[i],0))\n",
        "    cuartilesRural[i] = x\n",
        "    y = int(round(cuartilesUrbano[i],0))\n",
        "    cuartilesUrbano[i] = y\n",
        "#Impresion del cuartiles\n",
        "print('Cuartiles Rurales')\n",
        "CuartilesRurales = 'Primer cuartil \\t [{0:,.0f}; {1:,.0f}] \\nSegundo cuartil \\t [{1:,.0f}; {2:,.0f}] \\nTercer cuartil \\t [{2:,.0f}; {3:,.0f}] \\nCuarto cuartil \\t [{3:,.0f}; {4:,.0f}]'.format(cuartilesRural[0], cuartilesRural[1], cuartilesRural[2], cuartilesRural[3], cuartilesRural[4])\n",
        "print(CuartilesRurales)\n",
        "print('Cuartiles Urbanos')\n",
        "CuartilesUrbanos = 'Primer cuartil \\t [{0:,.0f}; {1:,.0f}] \\nSegundo cuartil \\t [{1:,.0f}; {2:,.0f}] \\nTercer cuartil \\t [{2:,.0f}; {3:,.0f}] \\nCuarto cuartil \\t [{3:,.0f}; {4:,.0f}]'.format(cuartilesUrbano[0], cuartilesUrbano[1], cuartilesUrbano[2], cuartilesUrbano[3], cuartilesUrbano[4])\n",
        "print(CuartilesUrbanos)"
      ],
      "metadata": {
        "colab": {
          "base_uri": "https://localhost:8080/"
        },
        "outputId": "0f0ce62e-8ed4-42a6-a47c-8775d89c7695",
        "id": "rkrM10Hm5YNH"
      },
      "execution_count": 104,
      "outputs": [
        {
          "output_type": "stream",
          "name": "stdout",
          "text": [
            "Cuartiles Rurales\n",
            "Primer cuartil \t [6; 62] \n",
            "Segundo cuartil \t [62; 102] \n",
            "Tercer cuartil \t [102; 286] \n",
            "Cuarto cuartil \t [286; 674,553]\n",
            "Cuartiles Urbanos\n",
            "Primer cuartil \t [2; 67] \n",
            "Segundo cuartil \t [67; 102] \n",
            "Tercer cuartil \t [102; 147] \n",
            "Cuarto cuartil \t [147; 276,269]\n"
          ]
        }
      ]
    },
    {
      "cell_type": "markdown",
      "source": [
        "---"
      ],
      "metadata": {
        "id": "1dut_1Tn6W7A"
      }
    },
    {
      "cell_type": "markdown",
      "source": [
        "## **La Estrella**"
      ],
      "metadata": {
        "id": "er99flqZ5Yr_"
      }
    },
    {
      "cell_type": "code",
      "source": [
        "Municipio = 'La Estrella'\n",
        "Separador = ' - '\n",
        "Suelo= 'Rural'\n",
        "\n",
        "Municipio_ = df[(df['Municipio'] == Municipio)]\n",
        "MunicipioUrbano = Municipio_[(Municipio_['Suelo'] == 'Urbano')]\n",
        "MunicipioRural = Municipio_[(Municipio_['Suelo'] == 'Rural')]\n",
        "\n",
        "MunicipioAreaRural = MunicipioRural[['Shape_Area']].to_numpy()\n",
        "MunicipioAreaUrbana = MunicipioUrbano[['Shape_Area']].to_numpy()\n",
        "\n",
        "print('Figura ' + Municipio + ' ' + Suelo)\n",
        "fig1, ax1 = plt.subplots()\n",
        "ax1.set_title('Área de lote sin atípicos')\n",
        "ax1.set_xlabel(Municipio + Separador + Suelo)\n",
        "ax1.set_ylabel('Área de Lote')\n",
        "ax1.boxplot(MunicipioAreaRural, showfliers=False)\n",
        "\n",
        "Suelo = 'Urbano'\n",
        "\n",
        "print('Figura ' + Municipio + ' ' + Suelo)\n",
        "fig2, ax2 = plt.subplots()\n",
        "ax2.set_title('Área de lote sin atípicos')\n",
        "ax2.set_xlabel(Municipio + Separador + Suelo)\n",
        "ax2.set_ylabel('Área de Lote')\n",
        "ax2.boxplot(MunicipioAreaUrbana, showfliers=False)"
      ],
      "metadata": {
        "colab": {
          "base_uri": "https://localhost:8080/",
          "height": 751
        },
        "outputId": "c326007e-5f40-46fb-9983-3234d7ed3cfc",
        "id": "-OLqiXZQ5YsA"
      },
      "execution_count": 105,
      "outputs": [
        {
          "output_type": "stream",
          "name": "stdout",
          "text": [
            "Figura La Estrella Rural\n",
            "Figura La Estrella Urbano\n"
          ]
        },
        {
          "output_type": "execute_result",
          "data": {
            "text/plain": [
              "{'whiskers': [<matplotlib.lines.Line2D at 0x7f11bf808710>,\n",
              "  <matplotlib.lines.Line2D at 0x7f11bf808e90>],\n",
              " 'caps': [<matplotlib.lines.Line2D at 0x7f11bf774290>,\n",
              "  <matplotlib.lines.Line2D at 0x7f11bf774350>],\n",
              " 'boxes': [<matplotlib.lines.Line2D at 0x7f11bf808110>],\n",
              " 'medians': [<matplotlib.lines.Line2D at 0x7f11bf7ff710>],\n",
              " 'fliers': [],\n",
              " 'means': []}"
            ]
          },
          "metadata": {},
          "execution_count": 105
        },
        {
          "output_type": "display_data",
          "data": {
            "text/plain": [
              "<Figure size 432x288 with 1 Axes>"
            ],
            "image/png": "[encoded data removed]"
          },
          "metadata": {
            "needs_background": "light"
          }
        },
        {
          "output_type": "display_data",
          "data": {
            "text/plain": [
              "<Figure size 432x288 with 1 Axes>"
            ],
            "image/png": "[encoded data removed]"
          },
          "metadata": {
            "needs_background": "light"
          }
        }
      ]
    },
    {
      "cell_type": "code",
      "source": [
        "cuartilesRural = np.quantile(MunicipioAreaRural, [0,0.25,0.5,0.75,1])\n",
        "cuartilesUrbano = np.quantile(MunicipioAreaUrbana, [0,0.25,0.5,0.75,1])\n",
        "cuartil = ['Primer Cuartil', 'Segundo Cuartil', 'Tercer Cuartil', 'Cuarto Cuartil']\n",
        "cuartilesRural = list(cuartilesRural)\n",
        "cuartilesUrbano = list(cuartilesUrbano)\n",
        "\n",
        "for i in range(len(cuartilesRural)):\n",
        "    x = int(round(cuartilesRural[i],0))\n",
        "    cuartilesRural[i] = x\n",
        "    y = int(round(cuartilesUrbano[i],0))\n",
        "    cuartilesUrbano[i] = y\n",
        "#Impresion del cuartiles\n",
        "print('Cuartiles Rurales')\n",
        "CuartilesRurales = 'Primer cuartil \\t [{0:,.0f}; {1:,.0f}] \\nSegundo cuartil \\t [{1:,.0f}; {2:,.0f}] \\nTercer cuartil \\t [{2:,.0f}; {3:,.0f}] \\nCuarto cuartil \\t [{3:,.0f}; {4:,.0f}]'.format(cuartilesRural[0], cuartilesRural[1], cuartilesRural[2], cuartilesRural[3], cuartilesRural[4])\n",
        "print(CuartilesRurales)\n",
        "print('Cuartiles Urbanos')\n",
        "CuartilesUrbanos = 'Primer cuartil \\t [{0:,.0f}; {1:,.0f}] \\nSegundo cuartil \\t [{1:,.0f}; {2:,.0f}] \\nTercer cuartil \\t [{2:,.0f}; {3:,.0f}] \\nCuarto cuartil \\t [{3:,.0f}; {4:,.0f}]'.format(cuartilesUrbano[0], cuartilesUrbano[1], cuartilesUrbano[2], cuartilesUrbano[3], cuartilesUrbano[4])\n",
        "print(CuartilesUrbanos)"
      ],
      "metadata": {
        "colab": {
          "base_uri": "https://localhost:8080/"
        },
        "outputId": "3665d56b-da77-44ae-bf8b-aa9f6f9696dd",
        "id": "wZvMCdn25YsA"
      },
      "execution_count": 106,
      "outputs": [
        {
          "output_type": "stream",
          "name": "stdout",
          "text": [
            "Cuartiles Rurales\n",
            "Primer cuartil \t [0; 157] \n",
            "Segundo cuartil \t [157; 1,188] \n",
            "Tercer cuartil \t [1,188; 4,791] \n",
            "Cuarto cuartil \t [4,791; 2,045,708]\n",
            "Cuartiles Urbanos\n",
            "Primer cuartil \t [0; 65] \n",
            "Segundo cuartil \t [65; 106] \n",
            "Tercer cuartil \t [106; 223] \n",
            "Cuarto cuartil \t [223; 99,164]\n"
          ]
        }
      ]
    },
    {
      "cell_type": "markdown",
      "source": [
        "---"
      ],
      "metadata": {
        "id": "aWoSAlDx6GcF"
      }
    },
    {
      "cell_type": "markdown",
      "source": [
        "## **Medellín**"
      ],
      "metadata": {
        "id": "gPiizlMQ5ZIm"
      }
    },
    {
      "cell_type": "code",
      "source": [
        "Municipio = 'Medellin'\n",
        "Separador = ' - '\n",
        "Suelo= 'Rural'\n",
        "\n",
        "Municipio_ = df[(df['Municipio'] == Municipio)]\n",
        "MunicipioUrbano = Municipio_[(Municipio_['Suelo'] == 'Urbano')]\n",
        "MunicipioRural = Municipio_[(Municipio_['Suelo'] == 'Rural')]\n",
        "\n",
        "MunicipioAreaRural = MunicipioRural[['Shape_Area']].to_numpy()\n",
        "MunicipioAreaUrbana = MunicipioUrbano[['Shape_Area']].to_numpy()\n",
        "\n",
        "print('Figura ' + Municipio + ' ' + Suelo)\n",
        "fig1, ax1 = plt.subplots()\n",
        "ax1.set_title('Área de lote sin atípicos')\n",
        "ax1.set_xlabel(Municipio + Separador + Suelo)\n",
        "ax1.set_ylabel('Área de Lote')\n",
        "ax1.boxplot(MunicipioAreaRural, showfliers=False)\n",
        "\n",
        "Suelo = 'Urbano'\n",
        "\n",
        "print('Figura ' + Municipio + ' ' + Suelo)\n",
        "fig2, ax2 = plt.subplots()\n",
        "ax2.set_title('Área de lote sin atípicos')\n",
        "ax2.set_xlabel(Municipio + Separador + Suelo)\n",
        "ax2.set_ylabel('Área de Lote')\n",
        "ax2.boxplot(MunicipioAreaUrbana, showfliers=False)"
      ],
      "metadata": {
        "colab": {
          "base_uri": "https://localhost:8080/",
          "height": 751
        },
        "outputId": "459f4acf-7d2f-47a0-a64e-0f6074f3f8e8",
        "id": "iXvAO31X5ZIm"
      },
      "execution_count": 107,
      "outputs": [
        {
          "output_type": "stream",
          "name": "stdout",
          "text": [
            "Figura Medellin Rural\n",
            "Figura Medellin Urbano\n"
          ]
        },
        {
          "output_type": "execute_result",
          "data": {
            "text/plain": [
              "{'whiskers': [<matplotlib.lines.Line2D at 0x7f11bf486890>,\n",
              "  <matplotlib.lines.Line2D at 0x7f11bf4865d0>],\n",
              " 'caps': [<matplotlib.lines.Line2D at 0x7f11bf49af10>,\n",
              "  <matplotlib.lines.Line2D at 0x7f11bf530390>],\n",
              " 'boxes': [<matplotlib.lines.Line2D at 0x7f11bf486f90>],\n",
              " 'medians': [<matplotlib.lines.Line2D at 0x7f11bf6933d0>],\n",
              " 'fliers': [],\n",
              " 'means': []}"
            ]
          },
          "metadata": {},
          "execution_count": 107
        },
        {
          "output_type": "display_data",
          "data": {
            "text/plain": [
              "<Figure size 432x288 with 1 Axes>"
            ],
            "image/png": "[encoded data removed]"
          },
          "metadata": {
            "needs_background": "light"
          }
        },
        {
          "output_type": "display_data",
          "data": {
            "text/plain": [
              "<Figure size 432x288 with 1 Axes>"
            ],
            "image/png": "[encoded data removed]"
          },
          "metadata": {
            "needs_background": "light"
          }
        }
      ]
    },
    {
      "cell_type": "code",
      "source": [
        "cuartilesRural = np.quantile(MunicipioAreaRural, [0,0.25,0.5,0.75,1])\n",
        "cuartilesUrbano = np.quantile(MunicipioAreaUrbana, [0,0.25,0.5,0.75,1])\n",
        "cuartil = ['Primer Cuartil', 'Segundo Cuartil', 'Tercer Cuartil', 'Cuarto Cuartil']\n",
        "cuartilesRural = list(cuartilesRural)\n",
        "cuartilesUrbano = list(cuartilesUrbano)\n",
        "\n",
        "for i in range(len(cuartilesRural)):\n",
        "    x = int(round(cuartilesRural[i],0))\n",
        "    cuartilesRural[i] = x\n",
        "    y = int(round(cuartilesUrbano[i],0))\n",
        "    cuartilesUrbano[i] = y\n",
        "#Impresion del cuartiles\n",
        "print('Cuartiles Rurales')\n",
        "CuartilesRurales = 'Primer cuartil \\t [{0:,.0f}; {1:,.0f}] \\nSegundo cuartil \\t [{1:,.0f}; {2:,.0f}] \\nTercer cuartil \\t [{2:,.0f}; {3:,.0f}] \\nCuarto cuartil \\t [{3:,.0f}; {4:,.0f}]'.format(cuartilesRural[0], cuartilesRural[1], cuartilesRural[2], cuartilesRural[3], cuartilesRural[4])\n",
        "print(CuartilesRurales)\n",
        "print('Cuartiles Urbanos')\n",
        "CuartilesUrbanos = 'Primer cuartil \\t [{0:,.0f}; {1:,.0f}] \\nSegundo cuartil \\t [{1:,.0f}; {2:,.0f}] \\nTercer cuartil \\t [{2:,.0f}; {3:,.0f}] \\nCuarto cuartil \\t [{3:,.0f}; {4:,.0f}]'.format(cuartilesUrbano[0], cuartilesUrbano[1], cuartilesUrbano[2], cuartilesUrbano[3], cuartilesUrbano[4])\n",
        "print(CuartilesUrbanos)"
      ],
      "metadata": {
        "colab": {
          "base_uri": "https://localhost:8080/"
        },
        "outputId": "ac82de30-b59f-4f79-96ba-441f4249f92a",
        "id": "bNqk4zov5ZIm"
      },
      "execution_count": 108,
      "outputs": [
        {
          "output_type": "stream",
          "name": "stdout",
          "text": [
            "Cuartiles Rurales\n",
            "Primer cuartil \t [1; 195] \n",
            "Segundo cuartil \t [195; 1,512] \n",
            "Tercer cuartil \t [1,512; 6,523] \n",
            "Cuarto cuartil \t [6,523; 11,137,588]\n",
            "Cuartiles Urbanos\n",
            "Primer cuartil \t [0; 54] \n",
            "Segundo cuartil \t [54; 92] \n",
            "Tercer cuartil \t [92; 160] \n",
            "Cuarto cuartil \t [160; 1,112,809]\n"
          ]
        }
      ]
    },
    {
      "cell_type": "markdown",
      "source": [
        "---"
      ],
      "metadata": {
        "id": "gRO5OxHy6IV7"
      }
    },
    {
      "cell_type": "markdown",
      "source": [
        "## **Sabaneta**"
      ],
      "metadata": {
        "id": "m1cboTZ85Zt4"
      }
    },
    {
      "cell_type": "code",
      "source": [
        "Municipio = 'Sabaneta'\n",
        "Separador = ' - '\n",
        "Suelo= 'Rural'\n",
        "\n",
        "Municipio_ = df[(df['Municipio'] == Municipio)]\n",
        "MunicipioUrbano = Municipio_[(Municipio_['Suelo'] == 'Urbano')]\n",
        "MunicipioRural = Municipio_[(Municipio_['Suelo'] == 'Rural')]\n",
        "\n",
        "MunicipioAreaRural = MunicipioRural[['Shape_Area']].to_numpy()\n",
        "MunicipioAreaUrbana = MunicipioUrbano[['Shape_Area']].to_numpy()\n",
        "\n",
        "print('Figura ' + Municipio + ' ' + Suelo)\n",
        "fig1, ax1 = plt.subplots()\n",
        "ax1.set_title('Área de lote sin atípicos')\n",
        "ax1.set_xlabel(Municipio + Separador + Suelo)\n",
        "ax1.set_ylabel('Área de Lote')\n",
        "ax1.boxplot(MunicipioAreaRural, showfliers=False)\n",
        "\n",
        "Suelo = 'Urbano'\n",
        "\n",
        "print('Figura ' + Municipio + ' ' + Suelo)\n",
        "fig2, ax2 = plt.subplots()\n",
        "ax2.set_title('Área de lote sin atípicos')\n",
        "ax2.set_xlabel(Municipio + Separador + Suelo)\n",
        "ax2.set_ylabel('Área de Lote')\n",
        "ax2.boxplot(MunicipioAreaUrbana, showfliers=False)"
      ],
      "metadata": {
        "colab": {
          "base_uri": "https://localhost:8080/",
          "height": 751
        },
        "outputId": "86456b59-8ab3-4981-b158-31463c344d5a",
        "id": "fdbG6bsY5Zt4"
      },
      "execution_count": 109,
      "outputs": [
        {
          "output_type": "stream",
          "name": "stdout",
          "text": [
            "Figura Sabaneta Rural\n",
            "Figura Sabaneta Urbano\n"
          ]
        },
        {
          "output_type": "execute_result",
          "data": {
            "text/plain": [
              "{'whiskers': [<matplotlib.lines.Line2D at 0x7f11beefb210>,\n",
              "  <matplotlib.lines.Line2D at 0x7f11beefb750>],\n",
              " 'caps': [<matplotlib.lines.Line2D at 0x7f11beefbc90>,\n",
              "  <matplotlib.lines.Line2D at 0x7f11bef03210>],\n",
              " 'boxes': [<matplotlib.lines.Line2D at 0x7f11beef4c10>],\n",
              " 'medians': [<matplotlib.lines.Line2D at 0x7f11bef03790>],\n",
              " 'fliers': [],\n",
              " 'means': []}"
            ]
          },
          "metadata": {},
          "execution_count": 109
        },
        {
          "output_type": "display_data",
          "data": {
            "text/plain": [
              "<Figure size 432x288 with 1 Axes>"
            ],
            "image/png": "[encoded data removed]"
          },
          "metadata": {
            "needs_background": "light"
          }
        },
        {
          "output_type": "display_data",
          "data": {
            "text/plain": [
              "<Figure size 432x288 with 1 Axes>"
            ],
            "image/png": "[encoded data removed]"
          },
          "metadata": {
            "needs_background": "light"
          }
        }
      ]
    },
    {
      "cell_type": "code",
      "source": [
        "cuartilesRural = np.quantile(MunicipioAreaRural, [0,0.25,0.5,0.75,1])\n",
        "cuartilesUrbano = np.quantile(MunicipioAreaUrbana, [0,0.25,0.5,0.75,1])\n",
        "cuartil = ['Primer Cuartil', 'Segundo Cuartil', 'Tercer Cuartil', 'Cuarto Cuartil']\n",
        "cuartilesRural = list(cuartilesRural)\n",
        "cuartilesUrbano = list(cuartilesUrbano)\n",
        "\n",
        "for i in range(len(cuartilesRural)):\n",
        "    x = int(round(cuartilesRural[i],0))\n",
        "    cuartilesRural[i] = x\n",
        "    y = int(round(cuartilesUrbano[i],0))\n",
        "    cuartilesUrbano[i] = y\n",
        "#Impresion del cuartiles\n",
        "print('Cuartiles Rurales')\n",
        "CuartilesRurales = 'Primer cuartil \\t [{0:,.0f}; {1:,.0f}] \\nSegundo cuartil \\t [{1:,.0f}; {2:,.0f}] \\nTercer cuartil \\t [{2:,.0f}; {3:,.0f}] \\nCuarto cuartil \\t [{3:,.0f}; {4:,.0f}]'.format(cuartilesRural[0], cuartilesRural[1], cuartilesRural[2], cuartilesRural[3], cuartilesRural[4])\n",
        "print(CuartilesRurales)\n",
        "print('Cuartiles Urbanos')\n",
        "CuartilesUrbanos = 'Primer cuartil \\t [{0:,.0f}; {1:,.0f}] \\nSegundo cuartil \\t [{1:,.0f}; {2:,.0f}] \\nTercer cuartil \\t [{2:,.0f}; {3:,.0f}] \\nCuarto cuartil \\t [{3:,.0f}; {4:,.0f}]'.format(cuartilesUrbano[0], cuartilesUrbano[1], cuartilesUrbano[2], cuartilesUrbano[3], cuartilesUrbano[4])\n",
        "print(CuartilesUrbanos)"
      ],
      "metadata": {
        "colab": {
          "base_uri": "https://localhost:8080/"
        },
        "outputId": "5b606329-e62f-457a-ab4a-27e497ad0345",
        "id": "DEu6QxkC5Zt5"
      },
      "execution_count": 110,
      "outputs": [
        {
          "output_type": "stream",
          "name": "stdout",
          "text": [
            "Cuartiles Rurales\n",
            "Primer cuartil \t [5; 111] \n",
            "Segundo cuartil \t [111; 285] \n",
            "Tercer cuartil \t [285; 1,499] \n",
            "Cuarto cuartil \t [1,499; 1,248,122]\n",
            "Cuartiles Urbanos\n",
            "Primer cuartil \t [2; 74] \n",
            "Segundo cuartil \t [74; 126] \n",
            "Tercer cuartil \t [126; 296] \n",
            "Cuarto cuartil \t [296; 70,165]\n"
          ]
        }
      ]
    }
  ]
}